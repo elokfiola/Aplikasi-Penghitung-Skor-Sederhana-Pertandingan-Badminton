{
  "nbformat": 4,
  "nbformat_minor": 0,
  "metadata": {
    "colab": {
      "provenance": []
    },
    "kernelspec": {
      "name": "python3",
      "display_name": "Python 3"
    },
    "language_info": {
      "name": "python"
    }
  },
  "cells": [
    {
      "cell_type": "markdown",
      "source": [
        "# Tugas Kelompok Praktikum PBF Modul 4"
      ],
      "metadata": {
        "id": "ntQp7t_F6aXJ"
      }
    },
    {
      "cell_type": "markdown",
      "source": [
        "## Praktikum PBF RC | Kelompok 3  \n",
        "1. Elok Fiola_122450051  \n",
        "2. Vira Putri Maharani_122450129\n",
        "3. Rani Puspita Sari_122450030    \n",
        "4. Diana syafithri 122450141\n",
        "5. Hermawan Manurung 122450069  \n",
        "6. Jihan Putri Yani_121450161"
      ],
      "metadata": {
        "id": "8kXxSIYT6e2p"
      }
    },
    {
      "cell_type": "markdown",
      "source": [
        "### Perbandingan Metode Imputasi pada Data Hilang:     Analisis Penggunaan Mean, Median, dan Modus dengan Pendekatan Pemrograman Berbasis Fungsi\n",
        "\n",
        "Penerapan python scope dan python\n",
        "closure"
      ],
      "metadata": {
        "id": "qgAh7Xon6xxn"
      }
    },
    {
      "cell_type": "code",
      "execution_count": 1,
      "metadata": {
        "colab": {
          "base_uri": "https://localhost:8080/"
        },
        "id": "XvNRBEo2jXRV",
        "outputId": "5b5d70b2-1b63-4680-cbee-b0c8e4ac1ff5"
      },
      "outputs": [
        {
          "name": "stdout",
          "output_type": "stream",
          "text": [
            "Masukkan nama file (file.csv): DNA PBF RC.csv\n"
          ]
        }
      ],
      "source": [
        "import csv\n",
        "import math\n",
        "from collections import Counter\n",
        "from sklearn.metrics import mean_squared_error\n",
        "\n",
        "def data_imputer(strategy='mean'):\n",
        "    def impute(data):\n",
        "        if strategy == 'mean':\n",
        "            mean_val = sum(x for x in data if x is not None) / len([x for x in data if x is not None])\n",
        "            return [x if x is not None else math.ceil(mean_val) for x in data]\n",
        "        elif strategy == 'median':\n",
        "            sorted_data = sorted(x for x in data if x is not None)\n",
        "            median_val = sorted_data[len(sorted_data) // 2]\n",
        "            return [x if x is not None else math.ceil(median_val) for x in data]\n",
        "        elif strategy == 'mode':\n",
        "            mode_val = Counter(x for x in data if x is not None).most_common(1)[0][0]\n",
        "            return [x if x is not None else math.ceil(mode_val) for x in data]\n",
        "        else:\n",
        "            raise ValueError(\"Unsupported imputation strategy\")\n",
        "\n",
        "    return impute\n",
        "\n",
        "def read_csv_file(filename):\n",
        "    data = []\n",
        "    with open(filename, 'r') as file:\n",
        "        csv_reader = csv.reader(file)\n",
        "        for row in csv_reader:\n",
        "            data.extend(int(cell) if cell.strip().isdigit() else None for cell in row if cell.strip())\n",
        "    return data\n",
        "\n",
        "filename = input(\"Masukkan nama file (file.csv): \")\n",
        "data = read_csv_file(filename)\n",
        "\n",
        "# Contoh penggunaan closure\n",
        "# Imputasi menggunakan mean\n",
        "impute_mean = data_imputer('mean')\n",
        "imputed_data_mean = impute_mean(data)\n",
        "\n",
        "# Imputasi menggunakan median\n",
        "impute_median = data_imputer('median')\n",
        "imputed_data_median = impute_median(data)\n",
        "\n",
        "# Imputasi menggunakan modus\n",
        "impute_mode = data_imputer('mode')\n",
        "imputed_data_mode = impute_mode(data)"
      ]
    },
    {
      "cell_type": "code",
      "source": [
        "# Proses pengolahan data setelah imputasi\n",
        "start_index = next((i for i, x in enumerate(data) if x is not None), None)\n",
        "imputed_length_mean = len(imputed_data_mean[start_index:])\n",
        "imputed_length_median = len(imputed_data_median[start_index:])\n",
        "imputed_length_mode = len(imputed_data_mode[start_index:])\n",
        "\n",
        "# Hitung RMSE untuk setiap metode imputasi\n",
        "rmse_mean = math.sqrt(mean_squared_error(imputed_data_mean, imputed_data_mean))\n",
        "rmse_median = math.sqrt(mean_squared_error(imputed_data_mean, imputed_data_median))\n",
        "rmse_mode = math.sqrt(mean_squared_error(imputed_data_mean, imputed_data_mode))"
      ],
      "metadata": {
        "id": "nMeO_CS3jZMd"
      },
      "execution_count": 2,
      "outputs": []
    },
    {
      "cell_type": "code",
      "source": [
        "# Pilih hasil imputasi dengan RMSE terkecil sebagai hasil terbaik\n",
        "hasil_imputasi_terbaik = ''\n",
        "if rmse_mean <= rmse_median and rmse_mean <= rmse_mode:\n",
        "    hasil_imputasi_terbaik = 'Mean'\n",
        "    print(\"Panjang data:\", imputed_length_mean)\n",
        "    print(\"Hasil imputasi menggunakan mean:\", imputed_data_mean[start_index:])\n",
        "    print(f\"Metode imputasi data terbaik menggunakan mean dengan RMSE: {rmse_mean}\")\n",
        "elif rmse_median <= rmse_mean and rmse_median <= rmse_mode:\n",
        "    hasil_imputasi_terbaik = 'Median'\n",
        "    print(\"Panjang data:\", imputed_length_median)\n",
        "    print(\"Hasil imputasi menggunakan median:\", imputed_data_median[start_index:])\n",
        "    print(f\"Metode imputasi data terbaik menggunakan median dengan RMSE: {rmse_median}\")\n",
        "else:\n",
        "    hasil_imputasi_terbaik = 'Modus'\n",
        "    print(\"Panjang data:\", imputed_length_mode)\n",
        "    print(\"Hasil imputasi menggunakan modus:\", imputed_data_mode[start_index:])\n",
        "    print(f\"Metode imputasi data terbaik menggunakan modus dengan RMSE: {rmse_mode}\")"
      ],
      "metadata": {
        "colab": {
          "base_uri": "https://localhost:8080/"
        },
        "id": "pirn5j2mjbg_",
        "outputId": "728448d4-0323-442d-a367-9afbfa286c69"
      },
      "execution_count": 3,
      "outputs": [
        {
          "output_type": "stream",
          "name": "stdout",
          "text": [
            "Panjang data: 50\n",
            "Hasil imputasi menggunakan mean: [27, 36, 18, 9, 44, 39, 59, 57, 22, 38, 73, 45, 32, 61, 52, 29, 25, 34, 49, 42, 44, 47, 30, 27, 75, 47, 83, 51, 81, 34, 43, 80, 40, 41, 42, 43, 53, 55, 47, 53, 37, 31, 59, 35, 46, 8, 48, 38, 37, 37]\n",
            "Metode imputasi data terbaik menggunakan mean dengan RMSE: 0.0\n"
          ]
        }
      ]
    }
  ]
}